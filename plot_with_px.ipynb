{
 "cells": [
  {
   "cell_type": "code",
   "execution_count": 2,
   "id": "10e8a581",
   "metadata": {},
   "outputs": [],
   "source": [
    "import sqlite3\n",
    "import pandas as pd\n",
    "import plotly.express as px"
   ]
  },
  {
   "cell_type": "code",
   "execution_count": 4,
   "id": "c27de38c",
   "metadata": {},
   "outputs": [],
   "source": [
    "connection = sqlite3.connect(\"data/gapminder.db\")\n",
    "query = \"\"\"\n",
    "        SELECT * FROM plotting;\n",
    "        \"\"\"\n",
    "plotting_df = pd.read_sql(query, con=connection)"
   ]
  },
  {
   "cell_type": "code",
   "execution_count": 7,
   "id": "f22d8fb0",
   "metadata": {},
   "outputs": [],
   "source": [
    "fig = px.scatter(\n",
    "                 plotting_df, \n",
    "                 x=\"gdp_per_capita\", y=\"life_expectancy\",\n",
    "                 animation_frame=\"dt_year\",\n",
    "                 animation_group=\"country_name\",\n",
    "                 size=\"population\", color=\"continent\",\n",
    "                 hover_name=\"country_name\",\n",
    "                 size_max=100, range_x=[500,100000], range_y=[20,90], log_x=True,\n",
    "                 title=\"Gapminder Clone 1800-2023\"                 \n",
    "                )\n",
    "\n",
    "fig.write_html(\"gapminder_clone.html\",auto_open=True)"
   ]
  }
 ],
 "metadata": {
  "kernelspec": {
   "display_name": "Python 3",
   "language": "python",
   "name": "python3"
  },
  "language_info": {
   "codemirror_mode": {
    "name": "ipython",
    "version": 3
   },
   "file_extension": ".py",
   "mimetype": "text/x-python",
   "name": "python",
   "nbconvert_exporter": "python",
   "pygments_lexer": "ipython3",
   "version": "3.12.9"
  }
 },
 "nbformat": 4,
 "nbformat_minor": 5
}
