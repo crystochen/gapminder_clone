{
 "cells": [
  {
   "cell_type": "code",
   "execution_count": 18,
   "id": "b508be5f",
   "metadata": {},
   "outputs": [],
   "source": [
    "import sqlite3\n",
    "import pandas as pd\n",
    "import matplotlib.pyplot as plt\n",
    "import matplotlib.animation as animation"
   ]
  },
  {
   "cell_type": "code",
   "execution_count": null,
   "id": "93fb9e07",
   "metadata": {},
   "outputs": [],
   "source": [
    "\n",
    "connection = sqlite3.connect(\"data/gapminder.db\")\n",
    "\n",
    "query = \"\"\"\n",
    "        SELECT * FROM plotting;\n",
    "        \"\"\"\n",
    "plotting_df = pd.read_sql(query, con=connection)\n",
    "\n",
    "connection.close()"
   ]
  },
  {
   "cell_type": "code",
   "execution_count": null,
   "id": "76422be3",
   "metadata": {},
   "outputs": [],
   "source": [
    "fig, ax = plt.subplots()\n",
    "\n",
    "def update_plot(year_to_plot: int):\n",
    "    \n",
    "    ax.clear # clear the previous plot\n",
    "    subset_df = plotting_df[plotting_df[\"dt_year\"]==year_to_plot]\n",
    "    lex = subset_df[\"life_expectancy\"].values\n",
    "    gdp_pacap = subset_df[\"gdp_per_capita\"].values\n",
    "    cant = subset_df[\"continent\"].values\n",
    "    color_map = {\n",
    "                'asia':'r',\n",
    "                'africa':'g',\n",
    "                'europe':'b',\n",
    "                'americas':'c' # cyan   \n",
    "                }\n",
    "    for xi, yi, ci, in zip(gdp_pacap,  lex, cant):\n",
    "        ax.scatter(xi, yi, color = color_map[ci]) \n",
    "\n",
    "    ax.set_title(f\"The world in {year_to_plot}\")\n",
    "    ax.set_xlabel(\"GDP per Capita (USD)\")\n",
    "    ax.set_ylabel(\"Life Expectancy\")\n",
    "    ax.set_xlim(0, 100000)\n",
    "    ax.set_ylim(20, 100)\n",
    "        "
   ]
  },
  {
   "cell_type": "code",
   "execution_count": 21,
   "id": "056d08e2",
   "metadata": {},
   "outputs": [
    {
     "name": "stderr",
     "output_type": "stream",
     "text": [
      "MovieWriter ffmpeg unavailable; using Pillow instead.\n"
     ]
    }
   ],
   "source": [
    "ani = animation.FuncAnimation(fig, func=update_plot, frames=range(2000,2024), interval=10)\n",
    "ani.save(\"animation.gif\", fps=10)"
   ]
  }
 ],
 "metadata": {
  "kernelspec": {
   "display_name": "Python 3",
   "language": "python",
   "name": "python3"
  },
  "language_info": {
   "codemirror_mode": {
    "name": "ipython",
    "version": 3
   },
   "file_extension": ".py",
   "mimetype": "text/x-python",
   "name": "python",
   "nbconvert_exporter": "python",
   "pygments_lexer": "ipython3",
   "version": "3.12.9"
  }
 },
 "nbformat": 4,
 "nbformat_minor": 5
}
