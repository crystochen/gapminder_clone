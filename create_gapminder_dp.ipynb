{
 "cells": [
  {
   "cell_type": "code",
   "execution_count": 1,
   "id": "e088151d",
   "metadata": {},
   "outputs": [],
   "source": [
    "import pandas as pd\n",
    "import sqlite3\n",
    "\n",
    "class CreateGapminderDB:\n",
    "    def __init__(self):\n",
    "        self.file_names = [\n",
    "                            \"ddf--datapoints--gdp_pcap--by--country--time.csv\",\n",
    "                            \"ddf--datapoints--lex--by--country--time.csv\",\n",
    "                            \"ddf--datapoints--pop--by--country--time.csv\",\n",
    "                            \"ddf--entities--geo--country.csv\"\n",
    "                            ]   \n",
    "\n",
    "        self.table_names = [\n",
    "                            \"gdp_per_capita\",\n",
    "                            \"life_expectancy\",\n",
    "                            \"population\",\n",
    "                            \"geography\"\n",
    "                            ]\n",
    "\n",
    "    def import_as_dataframe(self):\n",
    "        df_dict = {}\n",
    "        for file_name, table_name in zip(self.file_names, self.table_names):\n",
    "            file_path = f\"data/{file_name}\"\n",
    "            \n",
    "            # Read the CSV file into a DataFrame\n",
    "            df = pd.read_csv(file_path)\n",
    "            \n",
    "            # Append the DataFrame to the list\n",
    "            df_dict[table_name] = df\n",
    "            print(f\"Loaded {file_path}- {len(df_dict)}\")\n",
    "        return df_dict\n",
    "   \n",
    "    # Create a database named gapminder.db in SQLlite a plotting with the data\n",
    "    def create_database(self):\n",
    "    \n",
    "        ## Start a connection to the SQLite database\n",
    "        connection = sqlite3.connect(\"data/gapminder.db\")\n",
    "        \n",
    "        df_dict = self.import_as_dataframe()\n",
    "        for key, value in df_dict.items():\n",
    "            value.to_sql(name=key, con=connection, index=False, if_exists=\"replace\")\n",
    "        \n",
    "        ## Send the SQL descriptions to SQLite database\n",
    "        \n",
    "        ### Ensure that there's no plot with the same name we are going to create\n",
    "        drop_view_sql = \"\"\"\n",
    "        DROP VIEW IF EXISTS plotting;\n",
    "        \"\"\"\n",
    "\n",
    "        create_view_sql = \"\"\"\n",
    "        CREATE VIEW plotting AS\n",
    "        SELECT  geography.name AS country_name,\n",
    "                geography.world_4region As continent,\n",
    "                gdp_per_capita.time AS dt_year, \n",
    "                gdp_per_capita.gdp_pcap AS gdp_per_capita,\n",
    "                life_expectancy.lex As life_expectancy,\n",
    "                population.pop AS population\n",
    "                \n",
    "            FROM    gdp_per_capita\n",
    "            JOIN    geography\n",
    "            ON      gdp_per_capita.country = geography.country\n",
    "            JOIN    life_expectancy\n",
    "            ON      gdp_per_capita.country = life_expectancy.country AND\n",
    "                    gdp_per_capita.time = life_expectancy.time\n",
    "            JOIN    population\n",
    "            ON      gdp_per_capita.country = population.country AND\n",
    "                    gdp_per_capita.time = population.time\n",
    "            WHERE   gdp_per_capita.time <2024; \n",
    "        \"\"\"\n",
    "\n",
    "        ### Execute the SQL script\n",
    "        cur = connection.cursor()\n",
    "        cur.execute(drop_view_sql)\n",
    "        cur.execute(create_view_sql)\n",
    "\n",
    "        connection.close()\n",
    "    \n",
    "    "
   ]
  },
  {
   "cell_type": "code",
   "execution_count": 2,
   "id": "5c304b72",
   "metadata": {},
   "outputs": [
    {
     "name": "stdout",
     "output_type": "stream",
     "text": [
      "Loaded data/ddf--datapoints--gdp_pcap--by--country--time.csv- 1\n",
      "Loaded data/ddf--datapoints--lex--by--country--time.csv- 2\n",
      "Loaded data/ddf--datapoints--pop--by--country--time.csv- 3\n",
      "Loaded data/ddf--entities--geo--country.csv- 4\n"
     ]
    }
   ],
   "source": [
    "create_gapminder_db = CreateGapminderDB()\n",
    "create_gapminder_db.create_database()"
   ]
  }
 ],
 "metadata": {
  "kernelspec": {
   "display_name": "Python 3",
   "language": "python",
   "name": "python3"
  },
  "language_info": {
   "codemirror_mode": {
    "name": "ipython",
    "version": 3
   },
   "file_extension": ".py",
   "mimetype": "text/x-python",
   "name": "python",
   "nbconvert_exporter": "python",
   "pygments_lexer": "ipython3",
   "version": "3.12.9"
  }
 },
 "nbformat": 4,
 "nbformat_minor": 5
}
